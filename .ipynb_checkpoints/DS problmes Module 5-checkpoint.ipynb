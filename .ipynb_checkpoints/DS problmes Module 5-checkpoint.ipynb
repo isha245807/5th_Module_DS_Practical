{
 "cells": [
  {
   "cell_type": "markdown",
   "id": "3db7f62d-d379-4c90-a028-504caaa4fa9f",
   "metadata": {},
   "source": [
    "# 1.  Write a code to reverse a string"
   ]
  },
  {
   "cell_type": "code",
   "execution_count": 9,
   "id": "cdbf956f-f1b2-403f-8e70-5055f1802f9b",
   "metadata": {},
   "outputs": [
    {
     "name": "stdout",
     "output_type": "stream",
     "text": [
      "Given String is 'Welcome to PW SKills'\n",
      "Reverse of string is 'slliKS WP ot emocleW'\n"
     ]
    }
   ],
   "source": [
    "strData1=\"Welcome to PW SKills\"\n",
    "print(f\"Given String is '{strData1}'\\nReverse of string is '{strData1[::-1]}'\") "
   ]
  },
  {
   "cell_type": "markdown",
   "id": "20782bb3-bc2a-4d22-b831-96b96ccac004",
   "metadata": {},
   "source": [
    "# 2.  Write a code to count the number of vowels in a string"
   ]
  },
  {
   "cell_type": "code",
   "execution_count": 16,
   "id": "c9e43cb6-b542-48f4-9ac9-24a1a8f13553",
   "metadata": {},
   "outputs": [
    {
     "name": "stdout",
     "output_type": "stream",
     "text": [
      "In given string 'We are living in India' 9 vowels are presented\n"
     ]
    }
   ],
   "source": [
    "strData2=\"We are living in India\"\n",
    "vowels=\"aeiou\"\n",
    "count=0\n",
    "for letter in strData2.lower(): # For loop for iteration \n",
    "    if letter in vowels:\n",
    "        count+=1\n",
    "print(f\"In given string '{strData2}' {count} vowels are presented\")"
   ]
  },
  {
   "cell_type": "markdown",
   "id": "6752ddf2-8a66-4e7a-ae17-411a4c5eb845",
   "metadata": {},
   "source": [
    "# 3.  Wrte a code to check if a given string is a palindrome or not "
   ]
  },
  {
   "cell_type": "code",
   "execution_count": 36,
   "id": "32d3b106-5a4b-4f1d-a8de-e362b7417784",
   "metadata": {},
   "outputs": [
    {
     "name": "stdout",
     "output_type": "stream",
     "text": [
      "neveroddoreveN\n",
      "Given string 'Never odd or even' is palindrome \n"
     ]
    }
   ],
   "source": [
    "strData3=\"Never odd or even\"\n",
    "strReverse=strData3[::-1].replace(\" \",\"\") # Remove white spaces\n",
    "print(strReverse)\n",
    "if strData3.lower().replace(\" \",\"\")==strReverse.lower():  # COnversting both Upper to lower case to check \n",
    "    print(f\"Given string '{strData3}' is palindrome \")\n",
    "else:\n",
    "    print(f\"Given string '{strData3}' is not  palindrome \")"
   ]
  },
  {
   "cell_type": "markdown",
   "id": "9270dd21-93c9-4819-9212-35f1e93b5030",
   "metadata": {},
   "source": [
    "# 4. Write a code to check if two given strings are anagrams of each other"
   ]
  },
  {
   "cell_type": "code",
   "execution_count": 59,
   "id": "61b44f65-defd-4d64-a963-0d34324224c8",
   "metadata": {},
   "outputs": [
    {
     "name": "stdout",
     "output_type": "stream",
     "text": [
      "Given 'listen' and 'silent' strings are anagrams\n"
     ]
    }
   ],
   "source": [
    "str1=\"listen\"\n",
    "str2=\"silent\"\n",
    "if sorted(str1.lower().replace(\" \",\"\")) ==sorted(str2.lower().replace(\" \",\"\")): #Conversting both strs to lower and remove space\n",
    "    print(f\"Given '{str1}' and '{str2}' strings are anagrams\")\n",
    "else:\n",
    "    print(f\"Given '{str1}' and '{str2}' strings are not anagrams\") "
   ]
  },
  {
   "cell_type": "markdown",
   "id": "25cfd738-4561-4fb5-89c7-eaa4b0d9d155",
   "metadata": {},
   "source": [
    "# 5. Write a code to find all occurrences of a given substring within another string"
   ]
  },
  {
   "cell_type": "code",
   "execution_count": 69,
   "id": "2cc8f821-0eea-499b-b0a5-71b1d905b295",
   "metadata": {},
   "outputs": [
    {
     "name": "stdout",
     "output_type": "stream",
     "text": [
      "Given 'Learning Java' is not present in the 'I'm learning python'\n"
     ]
    }
   ],
   "source": [
    "stringData=\"I'm learning python\"\n",
    "subString=\"Learning Java\"\n",
    "if subString.lower() in stringData.lower().replace(\" \",\"\"): #Convert strings to lower and main string spaces removed with replace()\n",
    "    print(f\"Given '{subString}' is present in the '{stringData}'\")\n",
    "else:\n",
    "    print(f\"Given '{subString}' is not present in the '{stringData}'\")"
   ]
  },
  {
   "cell_type": "markdown",
   "id": "86686bea-e744-4149-97cd-c33f7ae5a367",
   "metadata": {},
   "source": [
    "# 6. Write a code to perform basic string compressing using the counts of repeated characters"
   ]
  },
  {
   "cell_type": "code",
   "execution_count": 112,
   "id": "3a883adc-ac1f-4afc-9c43-de72b1997abb",
   "metadata": {},
   "outputs": [
    {
     "name": "stdout",
     "output_type": "stream",
     "text": [
      "Given string is'Python is too interesting'\n",
      "compression of string is 'P1y1t4h1o3n3i3s2e2r1g1'\n"
     ]
    }
   ],
   "source": [
    "# This code written for case sensitive , Capitals and small letters will be consider as different letters. \n",
    "\n",
    "strData6=\"Python is too interesting\"\n",
    "compressStr={}\n",
    "resultStr=\"\"\n",
    "for letter in strData6.replace(\" \",\"\"):\n",
    "        if letter  in compressStr:\n",
    "            compressStr[letter]= compressStr[letter]+1 # if ltter is present in dict as key it increment each each time when letter occure. \n",
    "        else:\n",
    "            compressStr[letter]= 1 #If ltter is not in dict key , it take letter as key and value as 1\n",
    "for (key,value) in compressStr.items():\n",
    "    compressLetter= \"\".join(f\"{key}{value}\")\n",
    "    \n",
    "    resultStr+=compressLetter\n",
    "print(f\"Given string is'{strData6}'\\ncompression of string is '{resultStr}'\")"
   ]
  },
  {
   "cell_type": "markdown",
   "id": "1ad64a9e-65dc-4698-8071-ccbab3eefc6a",
   "metadata": {},
   "source": [
    "# 7. Write a code to determine if a string has all unique characters"
   ]
  },
  {
   "cell_type": "code",
   "execution_count": 129,
   "id": "61b89061-7205-422a-92de-294f12b2f4d2",
   "metadata": {},
   "outputs": [
    {
     "name": "stdout",
     "output_type": "stream",
     "text": [
      "Given string 'Data Science with AI' has duplicate chracters(All characters are not unique)\n"
     ]
    }
   ],
   "source": [
    "# This code will consider both capital and small letters as same . (Not case sensitive)\n",
    "\n",
    "strData7=\"Data Science with AI\"\n",
    "if len(set(strData7.replace(\" \",\"\").lower())) == len(strData7.replace(\" \",\"\").lower()): #Set() converst to str and remove duplicates . \n",
    "       print(f\"Given string '{strData7}' has all unique characters\")\n",
    "else:\n",
    "       print(f\"Given string '{strData7}' has duplicate chracters(All characters are not unique)\")"
   ]
  },
  {
   "cell_type": "markdown",
   "id": "be47a670-a57a-4abb-9f6a-fc18cc43c1e2",
   "metadata": {},
   "source": [
    "# 8. Write a code to convert a given string to uppercase or lowercase"
   ]
  },
  {
   "cell_type": "code",
   "execution_count": 137,
   "id": "d7be401b-1539-434b-9373-0c475e312266",
   "metadata": {},
   "outputs": [
    {
     "name": "stdout",
     "output_type": "stream",
     "text": [
      "Given string is uppercase is KNOWLEDGE IS POWER\n",
      "Given string is lowercase is knowledge is power\n"
     ]
    }
   ],
   "source": [
    "strData8=\"KNowLEDgE Is POWer\"\n",
    "print(f\"Given string is uppercase is {strData8.upper()}\")\n",
    "print(f\"Given string is lowercase is {strData8.lower()}\")"
   ]
  },
  {
   "cell_type": "markdown",
   "id": "f98d000f-0637-4530-9aa4-f0c34613e340",
   "metadata": {},
   "source": [
    "# 9. Write a code to count the number of words in a string"
   ]
  },
  {
   "cell_type": "code",
   "execution_count": 144,
   "id": "94ab74b7-f93a-4787-b7de-187110fa8ae4",
   "metadata": {},
   "outputs": [
    {
     "name": "stdout",
     "output_type": "stream",
     "text": [
      "in Given sentence 10 words are presented\n"
     ]
    }
   ],
   "source": [
    "strData9=\"   Data structures are the fundamental building blocks of computer programming    \" \n",
    "countResult= (strData9.strip().split(\" \"))\n",
    "# Strip remove white space at strat and end and split will seperate the words based on space between words and create list \n",
    "print(f\"in Given sentence {len(countResult)} words are presented\") #length of list is word count "
   ]
  },
  {
   "cell_type": "markdown",
   "id": "061f720b-2c4e-4cf6-a4b0-9ebc1a4c9051",
   "metadata": {},
   "source": [
    "#  10. Write a code to concatenate two string without using the + Operator"
   ]
  },
  {
   "cell_type": "code",
   "execution_count": 158,
   "id": "62a218a2-c3be-4ecf-8135-ae858b5baec2",
   "metadata": {},
   "outputs": [
    {
     "name": "stdout",
     "output_type": "stream",
     "text": [
      "Given strings are 'Kirik' and 'Party'\n",
      "concatination of it is... 'Kirik Party'\n"
     ]
    }
   ],
   "source": [
    "strOne=\"Kirik\"\n",
    "srtTwo=\"Party\"\n",
    "Result= \" \".join([strOne,srtTwo]) \n",
    "#join use joined the strs .Str given in list form else each letter will be taken for join operation instread of words\n",
    "print(f\"Given strings are '{strOne}' and '{srtTwo}'\\nconcatination of it is... '{Result}'\")"
   ]
  },
  {
   "cell_type": "markdown",
   "id": "3e6c58c7-d82f-4d6d-8590-c3e06fea66d8",
   "metadata": {},
   "source": [
    "#  11.Write a code to remove all occurrences of a specific element  from a list"
   ]
  },
  {
   "cell_type": "code",
   "execution_count": 16,
   "id": "9badc852-4cea-4b69-9458-01c1efe166e4",
   "metadata": {},
   "outputs": [
    {
     "name": "stdout",
     "output_type": "stream",
     "text": [
      "[1, 2, 3, 4, 5, 6, 'ABC', 4, 3, 5, 6, 7, 4, 5]\n"
     ]
    }
   ],
   "source": [
    "lstData11=[1,2,3,4,5,6,\"ABC\",4,3,5,6,7,4,5,]\n",
    "removeElement=[4]\n",
    "result=[element for element in lstData11 if element != removeElement]\n",
    "#Here using list Comprehensiving , if element is not matching with remove element it will be added in to new list 'result'\n",
    "print(result)"
   ]
  },
  {
   "cell_type": "markdown",
   "id": "d92358b4-651d-42a2-acc6-26509f1d00a9",
   "metadata": {},
   "source": [
    "#  12.  Implement a code to find the second largest number in a given list of integers"
   ]
  },
  {
   "cell_type": "code",
   "execution_count": 24,
   "id": "ad06400b-772e-4f64-af1e-c272948c7daf",
   "metadata": {},
   "outputs": [
    {
     "name": "stdout",
     "output_type": "stream",
     "text": [
      "In given list [20, 20, 50, 100, 200, 500]\n",
      "second largest number is 200\n",
      "\n"
     ]
    }
   ],
   "source": [
    "lstData12=[100,200,500,50,20,20]\n",
    "lstData12.sort() # Here sorting is in based on accending order\n",
    "print(f\"In given list {lstData12}\\nsecond largest number is {lstData12[-2]}\\n\") # [-2] give the last second index value of sorted list"
   ]
  },
  {
   "cell_type": "markdown",
   "id": "f7b9b5a2-6b31-4cd6-953a-cb3836271fab",
   "metadata": {},
   "source": [
    "#  13.  Create a code to count the occurrence of each element in a list and return a dictionary with elements as keys and their counts as values  "
   ]
  },
  {
   "cell_type": "code",
   "execution_count": 29,
   "id": "7a93624a-bc73-4a74-a2bd-f7989cfeb462",
   "metadata": {},
   "outputs": [
    {
     "name": "stdout",
     "output_type": "stream",
     "text": [
      "In given list [100, 200, 500, 50, 20, 20, 'ABC', 'ABC', 100, 500, 20, 50, 50, 50] ,\n",
      "the details of each element and no of time occurred is mentioned below as 'element:count '\n",
      "{100: 2, 200: 1, 500: 2, 50: 4, 20: 3, 'ABC': 2}\n"
     ]
    }
   ],
   "source": [
    "lstData13=[100,200,500,50,20,20,\"ABC\",\"ABC\",100,500,20,50,50,50]\n",
    "resultDict={}\n",
    "for element in lstData13:\n",
    "    if element in resultDict:  # If element is mentioned as key, each time when it iterace count value will be added 1\n",
    "        resultDict[element]+=1\n",
    "    else:\n",
    "        resultDict[element]=1 # if element is not in Dict as ket , element as key and value of 1 will be assigned  \n",
    "print(f\"In given list {lstData13} ,\\nthe details of each element and no of time occurred is mentioned below as 'element:count '\\n{resultDict}\")"
   ]
  },
  {
   "cell_type": "markdown",
   "id": "8d369d84-43b2-463a-bc44-34c7b3455e8e",
   "metadata": {},
   "source": [
    "#  14. Write a code to reverse a list in-place without using any built-in reverse functions"
   ]
  },
  {
   "cell_type": "code",
   "execution_count": 32,
   "id": "a8b8dd29-549a-4bc8-a3cc-7f5a170e9994",
   "metadata": {},
   "outputs": [
    {
     "name": "stdout",
     "output_type": "stream",
     "text": [
      "Given list in reverse is\n",
      "['Python', 'the ', 'about ', 'all', 'Its']\n"
     ]
    }
   ],
   "source": [
    "lstData14=[\"Its\",\"all\",\"about \",\"the \",\"Python\"]\n",
    "# Here using list sclicing rather than list reverse()\n",
    "# Any list with[::-1] give reverse of the list and string as well . \n",
    "print(f\"Given list in reverse is\\n{lstData14[::-1]}\")"
   ]
  },
  {
   "cell_type": "markdown",
   "id": "512cd199-5c4a-48f3-ad0b-59d1e74e936c",
   "metadata": {},
   "source": [
    "# 15. Implement a code to find and remove duplicates from a list while preserving the original order of elements"
   ]
  },
  {
   "cell_type": "code",
   "execution_count": 59,
   "id": "7956cff3-d28b-4005-8b65-c5f6d5acf38c",
   "metadata": {},
   "outputs": [
    {
     "name": "stdout",
     "output_type": "stream",
     "text": [
      "Given list is:\n",
      "[1, 1, 2, 3, 4, 5, 5, 6, 5, 7]\n",
      "\n",
      "Duplicate numbers in list are:\n",
      "{1, 5}\n",
      "\n",
      "List after removing the duplicate elements is :\n",
      "{1, 2, 3, 4, 5, 6, 7}\n",
      "\n"
     ]
    }
   ],
   "source": [
    "lstData15=[1,1,2,3,4,5,5,6,5,7] # Original List \n",
    "setData=set() # List to create the \n",
    "DupElement=set()\n",
    "for element in lstData15:\n",
    "    if element in setData:\n",
    "        DupElement.add(element)\n",
    "    else:\n",
    "        setData.add(element)\n",
    "print(f\"Given list is:\\n{lstData15}\\n\\nDuplicate numbers in list are:\\n{DupElement}\")\n",
    "print(f\"\\nList after removing the duplicate elements is :\\n{setData}\\n\")"
   ]
  },
  {
   "cell_type": "markdown",
   "id": "619b5145-d17c-42be-8513-f782384bbe61",
   "metadata": {},
   "source": [
    "# 16.  Create a code to check if a given list is sorted ( either in ascending or descending order) or not "
   ]
  },
  {
   "cell_type": "code",
   "execution_count": 69,
   "id": "14873e98-54e1-412b-93d6-4e50f6edeb85",
   "metadata": {},
   "outputs": [
    {
     "name": "stdout",
     "output_type": "stream",
     "text": [
      "Given list elements are not sorted in either in ascending or  descending order\n"
     ]
    }
   ],
   "source": [
    "lstData16=[100,200,500,50]\n",
    "dupList=lstData16.copy() #  deep copy of the list and keep seperate memory for both list\n",
    "dupList.sort() # sort the elements in ascending order\n",
    "if lstData16==dupList: # If both list elements are equal \n",
    "    print(\"Given list elements are sorted in ascending order\")\n",
    "elif lstData16==dupList[::-1]: # [::-1] gives reverse of list which will be in descendng order\n",
    "    print(\"Given list elements are sorted in descending order\")\n",
    "else: # If both conditions are not true else condition will be executed\n",
    "    print(\"Given list elements are not sorted in either in ascending or  descending order\")"
   ]
  },
  {
   "cell_type": "markdown",
   "id": "c97f4e41-4c79-4e95-a519-27353eb8e62f",
   "metadata": {},
   "source": [
    "#  17.  Write a code to merge two sorted lists into a single sorted list"
   ]
  },
  {
   "cell_type": "code",
   "execution_count": 42,
   "id": "cf11e4b3-9af6-4147-a889-ea4c3b8c0a8f",
   "metadata": {},
   "outputs": [
    {
     "name": "stdout",
     "output_type": "stream",
     "text": [
      "Both lists are merged and sorted and output is:\n",
      "[5, 10, 15, 15, 20, 25, 30, 35, 40, 45, 50] \n"
     ]
    }
   ],
   "source": [
    "listData1=[25,5,15,35,45] # List 1\n",
    "listData2=[10,30,40,20,50,15] # List 2\n",
    "listData1.extend(listData2) # List 2 will be added into list 1\n",
    "listData1.sort() # Now All toghter both will be consiered as 1 list that is listData1 and sort the elements in accending \n",
    "print(f\"Both lists are merged and sorted and output is:\\n{listData1} \")"
   ]
  },
  {
   "cell_type": "markdown",
   "id": "b64db7e8-71a9-42d8-8e9f-4301791b66bb",
   "metadata": {},
   "source": [
    "# 18.  Implement a code to find the intersection of two given lists"
   ]
  },
  {
   "cell_type": "code",
   "execution_count": 86,
   "id": "fd06877b-6654-404f-8574-d475b31be538",
   "metadata": {},
   "outputs": [
    {
     "name": "stdout",
     "output_type": "stream",
     "text": [
      "Given City list data are:\n",
      "['Bangalore', 'Mumbai', 'Pune']\t and\t['Bangalore', 'Mumbai', 'Pune']\n",
      "The intersection of given City list names is :\n",
      "{'Mumbai', 'Pune'}\n"
     ]
    }
   ],
   "source": [
    "cityName1=[\"Bangalore\",\"Mumbai\", \"Pune\"]\n",
    "cityName2=[\"Pune\",\"Delhi\",\"Mumbai\"]\n",
    "print(f\"Given City list data are:\\n{cityName1}\\t and\\t{cityName1}\")\n",
    "print(f\"The intersection of given City list names is :\\n{set(cityName1)&set(cityName2)}\") \n",
    "#Intersection will be done in sets Hence List conversted to set and result will be printed. "
   ]
  },
  {
   "cell_type": "markdown",
   "id": "79ad28fd-2fce-4231-9ded-d5ee231331e3",
   "metadata": {},
   "source": [
    "# 19. Create a code to find the union of two lists without duplicates"
   ]
  },
  {
   "cell_type": "code",
   "execution_count": 92,
   "id": "99bd39ca-b493-43c7-a128-4a01c48bb617",
   "metadata": {},
   "outputs": [
    {
     "name": "stdout",
     "output_type": "stream",
     "text": [
      "Given lists elements are:\n",
      "[2, 4, 6, 8, 10, 12, 14, 16]\tand\t[1, 2, 3, 4, 5, 6, 7]\n",
      "The Union of given two lis is :\n",
      "{1, 2, 3, 4, 5, 6, 7, 8, 10, 12, 14, 16}\n",
      "\n"
     ]
    }
   ],
   "source": [
    "multiplyTWo=[2,4,6,8,10,12,14,16]\n",
    "multiplyone=[1,2,3,4,5,6,7]\n",
    "unionResult= set(multiplyTWo)| set(multiplyone) \n",
    "# COnverst to set and set automatically remove the duplicates and keep unique elements \n",
    "print(f\"Given lists elements are:\\n{multiplyTWo}\\tand\\t{multiplyone}\")\n",
    "print(f\"The Union of given two lis is :\\n{unionResult}\\n\")"
   ]
  },
  {
   "cell_type": "markdown",
   "id": "26b57e06-5e80-407a-8ae3-d1988feeb7f5",
   "metadata": {},
   "source": [
    "#  20. Write a code to shuffle a given list randomly without using any built-in shuffle functions"
   ]
  },
  {
   "cell_type": "code",
   "execution_count": 46,
   "id": "6951eb58-af7b-48b7-8197-1b8d96ad8872",
   "metadata": {},
   "outputs": [
    {
     "name": "stdout",
     "output_type": "stream",
     "text": [
      "Original List:\n",
      "[1, 2, 3, 4, 5]\n",
      "Shuffled List:\n",
      "[2, 3, 5, 4, 1]\n"
     ]
    }
   ],
   "source": [
    "import random\n",
    "def shuffle_list(lst):\n",
    "    # Traverse the list from the last element to the first\n",
    "    for i in range(len(lst) - 1, 0, -1):\n",
    "        # Generate a random index from 0 to i\n",
    "        j = random.randint(0, i)\n",
    "        \n",
    "        # Swap elements at index i and index j\n",
    "        lst[i], lst[j] = lst[j], lst[i]\n",
    "\n",
    "    return lst\n",
    "original_list = [1, 2, 3, 4, 5]\n",
    "shuffled_list = shuffle_list(original_list.copy())\n",
    "\n",
    "print(\"Original List:\")\n",
    "print(original_list)\n",
    "print(\"Shuffled List:\")\n",
    "print(shuffled_list)\n"
   ]
  },
  {
   "cell_type": "markdown",
   "id": "746ae74b-0614-442d-ab02-2fa324d12641",
   "metadata": {},
   "source": [
    "#  21.  Write a code that takes two tuples as input and returns a new tuple containing elements that are common to both input tuples"
   ]
  },
  {
   "cell_type": "code",
   "execution_count": 8,
   "id": "7ed985a7-76eb-4381-9b34-6df8327e4ad3",
   "metadata": {},
   "outputs": [
    {
     "name": "stdin",
     "output_type": "stream",
     "text": [
      "Enter the numbers to add to tuple-1 (e.g., 1,2,3):  2,4,6,8,10,12,14\n",
      "Enter the numbers to add to tuple-2 (e.g., 4,5,6):  1,2,3,4,5,6,7,8,9,10\n"
     ]
    },
    {
     "name": "stdout",
     "output_type": "stream",
     "text": [
      "\n",
      "As per given inputs data common elements in both tuple is :\n",
      "(2, 4, 6, 8, 10)\n",
      "\n"
     ]
    }
   ],
   "source": [
    "input1 = tuple(map(int, input(\"Enter the numbers to add to tuple-1 (e.g., 1,2,3): \").split(','))) \n",
    "input2 = tuple(map(int, input(\"Enter the numbers to add to tuple-2 (e.g., 4,5,6): \").split(',')))\n",
    "#Input will be as srting , string will be conversted to integer and seperated by ',' and again converst to tuple\n",
    "commonInputElement = tuple([ element  for element in input1 if element in input2]) # Used list comprehesion and conversted to tuple \n",
    "print(f\"\\nAs per given inputs data common elements in both tuple is :\\n{commonInputElement}\\n\")"
   ]
  },
  {
   "cell_type": "markdown",
   "id": "7fc09059-d4a3-4291-8d15-4f95dc9bfe1d",
   "metadata": {},
   "source": [
    "#   22. Create a code that prompts the user to enter two sets of integers separated by commas. Then , print the intersection of these tow sets "
   ]
  },
  {
   "cell_type": "code",
   "execution_count": 43,
   "id": "5aa95c20-fed9-467e-9ea6-d12858dfad7c",
   "metadata": {},
   "outputs": [
    {
     "name": "stdin",
     "output_type": "stream",
     "text": [
      "Enter the numbers to add to set-1 (e.g., 1,2,3):  2,3,4,5,6,7\n",
      "Enter the numbers to add to set-2 (e.g., 4,5,6):  3,6,7,8,9\n"
     ]
    },
    {
     "name": "stdout",
     "output_type": "stream",
     "text": [
      "The intersection of given two input set data is :\n",
      "{3, 6, 7}\n",
      " \n"
     ]
    }
   ],
   "source": [
    "setInput1 = set(map(int, input(\"Enter the numbers to add to set-1 (e.g., 1,2,3): \").split(','))) \n",
    "setInput2 = set(map(int, input(\"Enter the numbers to add to set-2 (e.g., 4,5,6): \").split(',')))\n",
    "# Taken input data as string and converst into as set and seperated elements by ',' \n",
    "print(f\"The intersection of given two input set data is :\\n{setInput1 & setInput2}\\n \")#'&' define intersection between 2 sets "
   ]
  },
  {
   "cell_type": "markdown",
   "id": "eb886316-e8a3-4200-8dd9-95b466790db2",
   "metadata": {},
   "source": [
    "#  23.  Write a code to concatenate two tuples. The function should take two tuples as input and retune a new tuple containing elements from both input tuples"
   ]
  },
  {
   "cell_type": "code",
   "execution_count": 13,
   "id": "936d4775-fa4b-43de-a02f-8b1300d827fa",
   "metadata": {},
   "outputs": [
    {
     "name": "stdin",
     "output_type": "stream",
     "text": [
      "Enter the numbers to add to tuple-1 (e.g., 1,2,3):  1,3,5,6\n",
      "Enter the numbers to add to tuple-2 (e.g., 4,5,6):  3,6,9,0\n"
     ]
    },
    {
     "name": "stdout",
     "output_type": "stream",
     "text": [
      "Concatenate of given two tuple is:\n",
      "(1, 3, 5, 6, 3, 6, 9, 0)\n",
      "\n"
     ]
    }
   ],
   "source": [
    "def contatenateTuple(t1,t2): # FUnction which take 2tuples as arguments and return contatenate of ot \n",
    "    return tuple(t1+t2) #return contatenate of 2 tuples to main functions \n",
    "\n",
    "tupleInput1 = tuple(map(int, input(\"Enter the numbers to add to tuple-1 (e.g., 1,2,3): \").split(','))) \n",
    "tupleInput2 = tuple(map(int, input(\"Enter the numbers to add to tuple-2 (e.g., 4,5,6): \").split(',')))\n",
    "# Take input as string and converst it to tuple by elements will be seperated by ','\n",
    "result=contatenateTuple(tupleInput1,tupleInput2) # result of contatenateTuple will be saved in \"result\"\n",
    "print(f\"Concatenate of given two tuple is:\\n{result}\\n\")"
   ]
  },
  {
   "cell_type": "markdown",
   "id": "f9bc3058-a64d-4d67-9998-71e9aa2b1c87",
   "metadata": {},
   "source": [
    "#  24.  Develop a code that prompts the user to input two sets of strings. Then print the elements that are present the first set but not in second set "
   ]
  },
  {
   "cell_type": "code",
   "execution_count": 45,
   "id": "be32e9ba-07f9-4415-9822-a2986042bbfb",
   "metadata": {},
   "outputs": [
    {
     "name": "stdin",
     "output_type": "stream",
     "text": [
      "Enter the numbers to add to set-1 (e.g., 1,2,3):  1,4,6,8,9,0,1\n",
      "Enter the numbers to add to set-2 (e.g., 4,5,6):  3,5,7,8,9,2\n"
     ]
    },
    {
     "name": "stdout",
     "output_type": "stream",
     "text": [
      "As per user input sets , elements present in 1st set and not in 2nd set / Difference of set1-set2 is\n",
      "{0, 1, 4, 6}\n",
      "\n"
     ]
    }
   ],
   "source": [
    "setInput1 = set(map(int, input(\"Enter the numbers to add to set-1 (e.g., 1,2,3): \").split(','))) \n",
    "setInput2 = set(map(int, input(\"Enter the numbers to add to set-2 (e.g., 4,5,6): \").split(',')))\n",
    "print(f\"As per user input sets , elements present in 1st set and not in 2nd set / Difference of set1-set2 is\\n{setInput1-setInput2}\\n\")\n",
    "#setInput1-setInput2 is the difference of sets which is elements which is present only in setInput1 not in setInput2"
   ]
  },
  {
   "cell_type": "markdown",
   "id": "aa8d625e-c350-4ee9-a42c-492d5be1dcf1",
   "metadata": {},
   "source": [
    "# 25. Create a code that takes a tuple nd two integers as input . he function should return a new tuple containing elements from the original tuple within the specified range of indices"
   ]
  },
  {
   "cell_type": "code",
   "execution_count": 17,
   "id": "e6e694ee-f3c1-4475-a20f-5b91e5f8a55b",
   "metadata": {},
   "outputs": [
    {
     "name": "stdin",
     "output_type": "stream",
     "text": [
      "Enter the numbers to add to tuple-1 (e.g., 1,2,3):  1,2,3,4,5,6,7,8,9,10\n",
      "Enter an integer number(between 0 to 8) which will be consider as start index to slice 2\n",
      "Enter an integer number(between 2 to 9) which will be consider as end index to slice 7\n"
     ]
    },
    {
     "name": "stdout",
     "output_type": "stream",
     "text": [
      "As per given input of tuple, start and end index numbers ,new tuple has been created. i.e\n",
      "(3, 4, 5, 6, 7)\n",
      "\n"
     ]
    }
   ],
   "source": [
    "def rangeTuple(tple,startNum, endNum):\n",
    "    return tple[startNum:endNum] # Clicing tuple[start:end:steps] here taken only start and end . Step is optional\n",
    "\n",
    "tupleInput = tuple(map(int, input(\"Enter the numbers to add to tuple-1 (e.g., 1,2,3): \").split(','))) \n",
    "inputInt1 = int(input(f\"Enter an integer number(between 0 to {len(tupleInput)-2}) which will be consider as start index to slice\"))\n",
    "inputInt2= int(input(f\"Enter an integer number(between {inputInt1} to {len(tupleInput)-1}) which will be consider as end index to slice\"))\n",
    "sliceTuple=rangeTuple(tupleInput,inputInt1,inputInt2)\n",
    "print(f\"As per given input of tuple, start and end index numbers ,new tuple has been created. i.e\\n{sliceTuple}\\n\")"
   ]
  },
  {
   "cell_type": "markdown",
   "id": "e72d0463-fad3-4e78-9b60-3131a5e27b40",
   "metadata": {},
   "source": [
    "# #26. Write a code that prompts the user to input two sets of characters. Then , print the union of these two sets"
   ]
  },
  {
   "cell_type": "code",
   "execution_count": 20,
   "id": "39930346-95a7-4455-b788-1e3c3fc54490",
   "metadata": {},
   "outputs": [
    {
     "name": "stdin",
     "output_type": "stream",
     "text": [
      "Enter the Characters to add to set-1 :  i,s,h,a,j\n",
      "Enter the Characters to add to set-2 :  a,e,i,o,u\n"
     ]
    },
    {
     "name": "stdout",
     "output_type": "stream",
     "text": [
      "Union of given 2 set of characters is:\n",
      "{'o', 'u', 'a', 'i', 'j', 'e', 'h', 's'}\n"
     ]
    }
   ],
   "source": [
    "setInput1 = set(map(str ,input(\"Enter the Characters to add to set-1 : \").split(','))) \n",
    "setInput2 = set(map(str,input(\"Enter the Characters to add to set-2 : \").split(',')))\n",
    "print(f\"Union of given 2 set of characters is:\\n{setInput1 | setInput2}\") # Set1 | Set2 is the union operation"
   ]
  },
  {
   "cell_type": "markdown",
   "id": "6ffe2806-c215-4120-b0c8-c460cb78449a",
   "metadata": {},
   "source": [
    "#   27. Develop a code that takes a tuple of integers as input. The function should return the maximum and minimum values from the tuple using tuple unpacking"
   ]
  },
  {
   "cell_type": "code",
   "execution_count": 25,
   "id": "5354e01c-1029-4a75-947c-2cfe5ac6d8d9",
   "metadata": {},
   "outputs": [
    {
     "name": "stdin",
     "output_type": "stream",
     "text": [
      "Enter the numbers to add to tuple-1 (e.g., 1,2,3):  -1,-2,1,3,10\n"
     ]
    },
    {
     "name": "stdout",
     "output_type": "stream",
     "text": [
      "\n",
      "Maximum number of given tuple is:10\n",
      "Minimum number is:-2\n",
      "\n"
     ]
    }
   ],
   "source": [
    "def findMaxMin(tpl):\n",
    "    return (max(tpl),min(tpl)) # return tuple result that contain man and max of tuple elements \n",
    "\n",
    "tupleInput = tuple(map(int, input(\"Enter the numbers to add to tuple-1 (e.g., 1,2,3): \").split(','))) \n",
    "MaxNum,MinNum=findMaxMin(tupleInput) # Used Tuple unpacking of result of findMaxMin\n",
    "print(f\"\\nMaximum number of given tuple is:{MaxNum}\\nMinimum number is:{MinNum}\\n\")"
   ]
  },
  {
   "cell_type": "markdown",
   "id": "4727dac4-2334-4aac-a0ab-faa5a333b2eb",
   "metadata": {},
   "source": [
    "# 28. Create a code that defines two set of integers. Then print the union, intersection and difference of these two sets"
   ]
  },
  {
   "cell_type": "code",
   "execution_count": 26,
   "id": "68b7e24a-aa49-4107-95da-66367ee6d2dd",
   "metadata": {},
   "outputs": [
    {
     "name": "stdin",
     "output_type": "stream",
     "text": [
      "Enter the numbers to add to set-1 :  1,4,6,7\n",
      "Enter the numbers to add to set-1 :  2,4,6,7,8,9\n"
     ]
    },
    {
     "name": "stdout",
     "output_type": "stream",
     "text": [
      "\n",
      "Union of given 2 sets is: {1, 2, 4, 6, 7, 8, 9}\n",
      "\n",
      "Intersection of given 2 sets is: {4, 6, 7}\n",
      "\n",
      "difference of given set1-set2 is : {1}\n",
      "\n",
      "difference of given set2-set1 is : {8, 9, 2}\n",
      "\n"
     ]
    }
   ],
   "source": [
    "setInput1 = set(map(int ,input(\"Enter the numbers to add to set-1 : \").split(','))) \n",
    "setInput2 = set(map(int ,input(\"Enter the numbers to add to set-1 : \").split(','))) \n",
    "print(f\"\\nUnion of given 2 sets is: {setInput1|setInput2}\\n\") #\"|\" is denote as Union between 2 sets \n",
    "print(f\"Intersection of given 2 sets is: {setInput1&setInput2}\\n\") #\"&\" is denote as Intersection between 2 sets \n",
    "print(f\"difference of given set1-set2 is : {setInput1-setInput2}\\n\") #\"-\" is denote as difference from set1 to set2 \n",
    "print(f\"difference of given set2-set1 is : {setInput2-setInput1}\\n\")"
   ]
  },
  {
   "cell_type": "markdown",
   "id": "cc559999-26fb-4d18-aced-5e9d5f032aca",
   "metadata": {},
   "source": [
    "#  29. Write a code that takes tuple and an element as input. The function should return the count of occurrences of the given element in the tuple"
   ]
  },
  {
   "cell_type": "code",
   "execution_count": 29,
   "id": "25c0025e-51ff-45ac-8184-e3f7cb960ad7",
   "metadata": {},
   "outputs": [
    {
     "name": "stdin",
     "output_type": "stream",
     "text": [
      "Enter the elements to add into Tuple 2,3,4,5,6,78,2,3,4,56,1,2,3,4,5\n",
      "Enter the element to check the count of it presented.  3\n"
     ]
    },
    {
     "name": "stdout",
     "output_type": "stream",
     "text": [
      "The element '3' occurred in given tuple is 3 times\n",
      "\n"
     ]
    }
   ],
   "source": [
    "def countCheck(tpl,element):\n",
    "    return tpl.count(element)\n",
    "\n",
    "tupleInput=tuple(map(int, input(\"Enter the elements to add into Tuple\").split(\",\")))# Convert to int bcz findnum is interger\n",
    "elementToFind= int(input(\"Enter the element to check the count of it presented. \"))\n",
    "if elementToFind in tupleInput: #If element in tuple execute the countCheck function \n",
    "    print(f\"The element '{elementToFind}' occurred in given tuple is {countCheck(tupleInput,elementToFind)} times\\n\")\n",
    "else: # if element not even appered once else will execute\n",
    "    print(f\"The element '{elementToFind}' is not presented in given tuple\")"
   ]
  },
  {
   "cell_type": "markdown",
   "id": "697380b3-c416-4c40-ba59-50246d099109",
   "metadata": {},
   "source": [
    "#  30.  Develop a code that prompts the user to input two sets of strings. Then print the symmetric difference of these two sets "
   ]
  },
  {
   "cell_type": "code",
   "execution_count": 3,
   "id": "7d1182b9-3107-4cfc-95dd-81cfb2e2b10a",
   "metadata": {},
   "outputs": [
    {
     "name": "stdin",
     "output_type": "stream",
     "text": [
      "Enter the numbers to add to set-1 :  qw,45,6,7,8,9,2,1\n",
      "Enter the numbers to add to set-1 :  45,6,7,9,0\n"
     ]
    },
    {
     "name": "stdout",
     "output_type": "stream",
     "text": [
      "\n",
      "symmetric difference of given 2 sets is(set1^set2): {'8', '0', '1', '2', 'qw'}\n",
      "\n"
     ]
    }
   ],
   "source": [
    "setInput1 = set(input(\"Enter the numbers to add to set-1 : \").split(','))\n",
    "setInput2 = set(input(\"Enter the numbers to add to set-1 : \").split(','))\n",
    "print(f\"\\nsymmetric difference of given 2 sets is(set1^set2): {setInput1^setInput2}\\n\") #\"^\" is denote as symmetrcs difference"
   ]
  },
  {
   "cell_type": "markdown",
   "id": "79c2a20c-cdc1-4dcc-9c1f-63b80ea69032",
   "metadata": {},
   "source": [
    "#  31.  Write a code that takes a list of words as input and return a dictionary where the keys are unique words and the values are the frequencies of those words in the input list"
   ]
  },
  {
   "cell_type": "code",
   "execution_count": 6,
   "id": "52709781-8895-4b93-a905-c87c0b747e97",
   "metadata": {},
   "outputs": [
    {
     "name": "stdout",
     "output_type": "stream",
     "text": [
      "The given Sentence is ['The', 'the', 'cat', 'sat', 'on', 'on', 'the', 'mat', 'and', 'the', 'cat', 'looked', 'around']\n",
      "\n",
      "Number of times each words mentioned in above sentence is mentioned as Word:Count\n",
      "{'The': 1, 'the': 3, 'cat': 2, 'sat': 1, 'on': 2, 'mat': 1, 'and': 1, 'looked': 1, 'around': 1}\n",
      "\n"
     ]
    }
   ],
   "source": [
    "list31=[\"The\",\"the\",\"cat\",\"sat\",\"on\",\"on\",\"the\",\"mat\",\"and\",\"the\",\"cat\",\"looked\",\"around\"]\n",
    "dictData={}\n",
    "for word in list31:\n",
    "    if word in dictData:  # Code written for case sensitive\n",
    "        dictData[word] = dictData[word]+1\n",
    "    else:\n",
    "        dictData[word] =1\n",
    "print(f\"The given Sentence is {list31}\\n\")\n",
    "print(f\"Number of times each words mentioned in above sentence is mentioned as Word:Count\\n{dictData}\\n\")"
   ]
  },
  {
   "cell_type": "markdown",
   "id": "e6c8c834-b598-4067-8a5d-019b7d1c51a1",
   "metadata": {
    "tags": []
   },
   "source": [
    "#  32.  Write a code that takes two dictionaries as input and merges them into a single dictionary. If there are common keyes , the values should be added together"
   ]
  },
  {
   "cell_type": "code",
   "execution_count": 2,
   "id": "f85ca1c3-b007-4371-a4b5-62b4fbb16565",
   "metadata": {},
   "outputs": [
    {
     "name": "stdout",
     "output_type": "stream",
     "text": [
      "Merged dictonary data: if the key is repeated in both dictionaries, value  will be added\n",
      "{'One': 1, 'Two': 4, 'Three': 6, 'Four': 8, 'Five': 5}\n",
      "\n"
     ]
    }
   ],
   "source": [
    "dictData1={\"One\":1,\"Two\":2,\"Three\":3,\"Four\":4}\n",
    "dictData2={\"Two\":2,\"Three\":3,\"Four\":4,\"Five\":5}\n",
    "resultDict=dictData1.copy()\n",
    "for key,value in dictData2.items(): # For loop for 2nd dict\n",
    "    if key in dictData1: # condistion to check the key available in dict 1 \n",
    "        resultDict[key]+=value # Deep copy of dict 1 value will be added with dict 2 key's value if both keys are same\n",
    "    else:\n",
    "        resultDict[key]=value #else key and value will be same\n",
    "print(f\"Merged dictonary data: if the key is repeated in both dictionaries, value  will be added\\n{resultDict}\\n\")"
   ]
  },
  {
   "cell_type": "markdown",
   "id": "aa311f6a-585e-4368-b769-4adcf1bae5d3",
   "metadata": {},
   "source": [
    "#  33. Write a code to access a value in a nested dictionary. The function should take the dictionary and list of keys as input, and return the corresponding value. If any of the keys do not exist in the dictionary, the function should return None"
   ]
  },
  {
   "cell_type": "code",
   "execution_count": 3,
   "id": "996d8ec1-b79b-4f45-916c-e76e99df6760",
   "metadata": {},
   "outputs": [
    {
     "name": "stdout",
     "output_type": "stream",
     "text": [
      "10\n",
      "None\n"
     ]
    }
   ],
   "source": [
    "def get_nested_value(d, keys):\n",
    "    for key in keys:\n",
    "        if isinstance(d, dict) and key in d:\n",
    "            d = d[key]\n",
    "        else:\n",
    "            return None\n",
    "    return d\n",
    "\n",
    "nested_dict = {'a': {'b': {'c': 10}}}\n",
    "keys = ['a', 'b', 'c']\n",
    "print(get_nested_value(nested_dict, keys))  # Output: 10\n",
    "keys = ['a', 'b', 'd']\n",
    "print(get_nested_value(nested_dict, keys))  # Output: None\n"
   ]
  },
  {
   "cell_type": "markdown",
   "id": "fae03323-3beb-41c6-a85b-2e1bc88fad18",
   "metadata": {},
   "source": [
    "#  34. Write a code that takes a dictionary as input and return a sorted version of it based on the values. You can choose whether to sort in ascending or descending order"
   ]
  },
  {
   "cell_type": "code",
   "execution_count": 32,
   "id": "3db53e82-5943-491f-91a0-bfcad53ce959",
   "metadata": {},
   "outputs": [
    {
     "name": "stdout",
     "output_type": "stream",
     "text": [
      "The Dictionary data is arranged in acsending order , based on values\n",
      "{0: 1, 1: 11, 2: 22, 3: 33, 4: 44, 6: 66, 7: 77, 8: 88, 9: 99}\n",
      "\n"
     ]
    }
   ],
   "source": [
    "def sortDict(dictData):\n",
    "    sortResult={}\n",
    "    sortedValues=sorted(dictData.values()) # Sorted values \n",
    "    for sortValue in sortedValues: # For loop for sorted values\n",
    "        for key,value in dictData.items(): # For loop for keys and values of original Dict data\n",
    "            if sortValue==value: # If list value present in dict value\n",
    "                sortResult[key]=sortValue # In new dict key and value will be saved in acsending order\n",
    "    return sortResult\n",
    " \n",
    "unOrderDict={1:11,2:22,4:44,6:66,3:33,7:77,9:99,0:1,8:88}\n",
    "#print(f\"Sorted Dictionary data vased on values is\\n{sortDict(unOrderDict)}\\n\")\n",
    "print(f\"The Dictionary data is arranged in acsending order , based on values\\n{sortDict(unOrderDict)}\\n\")"
   ]
  },
  {
   "cell_type": "markdown",
   "id": "778cc521-9892-4d89-a783-db89dafab8a6",
   "metadata": {},
   "source": [
    "#  35. Write a code that inverts a directionary , swapping keys and values . ensure that the inverted dictionary correctly handles cases where multiple keys have the same value by storing the keys as a list in the inverted dictionary"
   ]
  },
  {
   "cell_type": "code",
   "execution_count": 41,
   "id": "c061350d-ac13-4257-9e3e-f05ed12991d5",
   "metadata": {},
   "outputs": [
    {
     "name": "stdout",
     "output_type": "stream",
     "text": [
      "Here is the given Dictionary data\n",
      "{'Apple': 1, 'Banana': 3, 'Orange': 1, 'Graps': 4, 'Kivi': 4, 'Papaya': 4}\n",
      "\n",
      "Swaping of key and value and keys are in listed form if has same value\n",
      "{1: ['Apple', 'Orange'], 3: ['Banana'], 4: ['Graps', 'Kivi', 'Papaya']}\n",
      "\n"
     ]
    }
   ],
   "source": [
    "def swapDict(dictData):\n",
    "    resultDictionary={}\n",
    "    for key,value in dictData.items():\n",
    "        if value in resultDictionary.keys():\n",
    "            resultDictionary[value].append(key) # If value already in resultdict as key , another key will be added using append()\n",
    "        else:\n",
    "            resultDictionary[value]=list([key])  # If value is not in resultDict as key , it add value as key and key as value in list type\n",
    "    return resultDictionary\n",
    "    \n",
    "    \n",
    "original_dict = {\"Apple\":1,\"Banana\":3,\"Orange\":1,\"Graps\":4,\"Kivi\":4,\"Papaya\":4}\n",
    "print(f\"Here is the given Dictionary data\\n{original_dict}\\n\\nSwaping of key and value and keys are in listed form if has same value\\n{swapDict(original_dict)}\\n\")"
   ]
  },
  {
   "cell_type": "code",
   "execution_count": null,
   "id": "4983a6ea-1a9d-4ba9-92cd-9e1890543e03",
   "metadata": {},
   "outputs": [],
   "source": []
  }
 ],
 "metadata": {
  "kernelspec": {
   "display_name": "Python 3 (ipykernel)",
   "language": "python",
   "name": "python3"
  },
  "language_info": {
   "codemirror_mode": {
    "name": "ipython",
    "version": 3
   },
   "file_extension": ".py",
   "mimetype": "text/x-python",
   "name": "python",
   "nbconvert_exporter": "python",
   "pygments_lexer": "ipython3",
   "version": "3.10.8"
  }
 },
 "nbformat": 4,
 "nbformat_minor": 5
}
